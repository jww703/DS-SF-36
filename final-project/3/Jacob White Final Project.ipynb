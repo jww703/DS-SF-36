{
 "cells": [
  {
   "cell_type": "markdown",
   "metadata": {},
   "source": [
    "# Jacob White Final Project"
   ]
  },
  {
   "cell_type": "code",
   "execution_count": 88,
   "metadata": {},
   "outputs": [
    {
     "name": "stderr",
     "output_type": "stream",
     "text": [
      "/Users/jacobwhite/anaconda/lib/python3.6/site-packages/sklearn/cross_validation.py:44: DeprecationWarning: This module was deprecated in version 0.18 in favor of the model_selection module into which all the refactored classes and functions are moved. Also note that the interface of the new CV iterators are different from that of this module. This module will be removed in 0.20.\n",
      "  \"This module will be removed in 0.20.\", DeprecationWarning)\n"
     ]
    }
   ],
   "source": [
    "import pandas as pd\n",
    "import numpy as np\n",
    "import os\n",
    "import sklearn\n",
    "\n",
    "import matplotlib.pyplot as plt\n",
    "%matplotlib inline\n",
    "plt.style.use('ggplot')\n",
    "\n",
    "pd.set_option('display.max_rows', 20)\n",
    "pd.set_option('display.notebook_repr_html', True)\n",
    "pd.set_option('display.max_columns', 10)\n",
    "\n",
    "from IPython.display import Image\n",
    "from sklearn.cross_validation import train_test_split, cross_val_score\n",
    "from sklearn.metrics import accuracy_score, precision_score, recall_score, confusion_matrix, classification_report, roc_auc_score, roc_curve\n",
    "from sklearn.linear_model import LogisticRegression, LinearRegression\n",
    "from sklearn.datasets import make_classification;"
   ]
  },
  {
   "cell_type": "markdown",
   "metadata": {},
   "source": [
    "### Import data"
   ]
  },
  {
   "cell_type": "code",
   "execution_count": 31,
   "metadata": {
    "collapsed": true
   },
   "outputs": [],
   "source": [
    "df = pd.read_pickle('/Users/jacobwhite/development/data/metaTables_july/metaClaims_invMod.pickle')"
   ]
  },
  {
   "cell_type": "markdown",
   "metadata": {},
   "source": [
    "### Exploratory Data Analysis"
   ]
  },
  {
   "cell_type": "code",
   "execution_count": 3,
   "metadata": {},
   "outputs": [
    {
     "data": {
      "text/plain": [
       "(2522038, 306)"
      ]
     },
     "execution_count": 3,
     "metadata": {},
     "output_type": "execute_result"
    }
   ],
   "source": [
    "df.shape"
   ]
  },
  {
   "cell_type": "code",
   "execution_count": 4,
   "metadata": {},
   "outputs": [
    {
     "data": {
      "text/plain": [
       "<bound method NDFrame.describe of         accepted_date accident_type adjustment_reason  \\\n",
       "0                 NaT           NaN               NaN   \n",
       "1                 NaT           NaN               NaN   \n",
       "2                 NaT           NaN               NaN   \n",
       "3                 NaT           NaN               NaN   \n",
       "4                 NaT           NaN               NaN   \n",
       "5                 NaT           NaN               NaN   \n",
       "6                 NaT           NaN               NaN   \n",
       "7                 NaT           NaN               NaN   \n",
       "8                 NaT           NaN               NaN   \n",
       "9                 NaT           NaN               NaN   \n",
       "...               ...           ...               ...   \n",
       "2522028           NaT           NaN               NaN   \n",
       "2522029           NaT           NaN               NaN   \n",
       "2522030           NaT           NaN               NaN   \n",
       "2522031           NaT           NaN               NaN   \n",
       "2522032           NaT           NaN               NaN   \n",
       "2522033           NaT           NaN               NaN   \n",
       "2522034           NaT           NaN               NaN   \n",
       "2522035           NaT           NaN               NaN   \n",
       "2522036           NaT           NaN               NaN   \n",
       "2522037           NaT           NaN               NaN   \n",
       "\n",
       "        adjustment_reason_description adjustment_reason_id  \\\n",
       "0                                 NaN                  NaN   \n",
       "1                                 NaN                  NaN   \n",
       "2                                 NaN                  NaN   \n",
       "3                                 NaN                  NaN   \n",
       "4                                   7                    7   \n",
       "5                                   7                    7   \n",
       "6                                   7                    7   \n",
       "7                                   7                    7   \n",
       "8                                   7                    7   \n",
       "9                                   7                    7   \n",
       "...                               ...                  ...   \n",
       "2522028                           NaN                  NaN   \n",
       "2522029                           NaN                  NaN   \n",
       "2522030                           NaN                  NaN   \n",
       "2522031                           NaN                  NaN   \n",
       "2522032                           NaN                  NaN   \n",
       "2522033                           NaN                  NaN   \n",
       "2522034                           NaN                  NaN   \n",
       "2522035                           NaN                  NaN   \n",
       "2522036                           NaN                  NaN   \n",
       "2522037                           NaN                  NaN   \n",
       "\n",
       "                  ...             workflow_queue_id external_reportable  \\\n",
       "0                 ...                           NaN                True   \n",
       "1                 ...                           NaN                True   \n",
       "2                 ...                           NaN                True   \n",
       "3                 ...                           NaN                True   \n",
       "4                 ...                           NaN                True   \n",
       "5                 ...                           NaN                True   \n",
       "6                 ...                           NaN                True   \n",
       "7                 ...                           NaN                True   \n",
       "8                 ...                           NaN                True   \n",
       "9                 ...                           NaN                True   \n",
       "...               ...                           ...                 ...   \n",
       "2522028           ...                           NaN               False   \n",
       "2522029           ...                           NaN               False   \n",
       "2522030           ...                           NaN               False   \n",
       "2522031           ...                           NaN               False   \n",
       "2522032           ...                           NaN               False   \n",
       "2522033           ...                           NaN               False   \n",
       "2522034           ...                           NaN               False   \n",
       "2522035           ...                           NaN               False   \n",
       "2522036           ...                           NaN               False   \n",
       "2522037           ...                           NaN               False   \n",
       "\n",
       "              metaclaim_id   paid_date  has_corresponding_claim  \n",
       "0            M_99036_99115         NaN                    False  \n",
       "1          M_539318_623141  2016-09-30                     True  \n",
       "2          M_534922_617617  2016-09-23                     True  \n",
       "3          M_518445_592291         NaN                    False  \n",
       "4          M_516064_589830         NaN                    False  \n",
       "5          M_516064_589799         NaN                    False  \n",
       "6          M_516064_589798         NaN                    False  \n",
       "7          M_516064_589797         NaN                    False  \n",
       "8          M_516064_589796         NaN                    False  \n",
       "9          M_516064_589795         NaN                    False  \n",
       "...                    ...         ...                      ...  \n",
       "2522028  VV_1360712_122065  2017-07-19                     True  \n",
       "2522029  VV_1360712_122064  2017-07-19                     True  \n",
       "2522030  VV_1360881_117225  2017-07-19                     True  \n",
       "2522031  VV_1360881_117224  2017-07-19                     True  \n",
       "2522032  VV_1360881_117223  2017-07-19                     True  \n",
       "2522033  VV_1360881_117222  2017-07-19                     True  \n",
       "2522034  VV_1360881_117221  2017-07-19                     True  \n",
       "2522035  VV_1360881_117220  2017-07-19                     True  \n",
       "2522036  VV_1360881_117219  2017-07-19                     True  \n",
       "2522037  VV_1360881_117218  2017-07-19                     True  \n",
       "\n",
       "[2522038 rows x 306 columns]>"
      ]
     },
     "execution_count": 4,
     "metadata": {},
     "output_type": "execute_result"
    }
   ],
   "source": [
    "df.describe"
   ]
  },
  {
   "cell_type": "code",
   "execution_count": 6,
   "metadata": {},
   "outputs": [
    {
     "data": {
      "text/plain": [
       "accepted_date                    1704261\n",
       "accident_type                    2516992\n",
       "adjustment_reason                2429127\n",
       "adjustment_reason_description    2465413\n",
       "adjustment_reason_id             2465413\n",
       "adjustment_type                  2522038\n",
       "admission_date                   2483729\n",
       "allowed_amount                         0\n",
       "alt_procedure_code               2518056\n",
       "amount_awp_ingredient_cost       1977613\n",
       "                                  ...   \n",
       "unit_type                         951394\n",
       "update_type                      1969146\n",
       "updated_by_base_user_id           299673\n",
       "value_codes                       951295\n",
       "workflow_queue_desc              1688523\n",
       "workflow_queue_id                1688523\n",
       "external_reportable                    0\n",
       "metaclaim_id                           0\n",
       "paid_date                         434777\n",
       "has_corresponding_claim                0\n",
       "Length: 306, dtype: int64"
      ]
     },
     "execution_count": 6,
     "metadata": {},
     "output_type": "execute_result"
    }
   ],
   "source": [
    "df.isnull().sum()"
   ]
  },
  {
   "cell_type": "code",
   "execution_count": 7,
   "metadata": {},
   "outputs": [
    {
     "data": {
      "text/plain": [
       "383711056"
      ]
     },
     "execution_count": 7,
     "metadata": {},
     "output_type": "execute_result"
    }
   ],
   "source": [
    "df.isnull().sum().sum()"
   ]
  },
  {
   "cell_type": "code",
   "execution_count": 8,
   "metadata": {},
   "outputs": [
    {
     "data": {
      "text/plain": [
       "accepted_date                    datetime64[ns]\n",
       "accident_type                            object\n",
       "adjustment_reason                        object\n",
       "adjustment_reason_description            object\n",
       "adjustment_reason_id                     object\n",
       "adjustment_type                         float64\n",
       "admission_date                   datetime64[ns]\n",
       "allowed_amount                          float64\n",
       "alt_procedure_code                       object\n",
       "amount_awp_ingredient_cost              float64\n",
       "                                      ...      \n",
       "unit_type                                object\n",
       "update_type                              object\n",
       "updated_by_base_user_id                 float64\n",
       "value_codes                              object\n",
       "workflow_queue_desc                      object\n",
       "workflow_queue_id                        object\n",
       "external_reportable                        bool\n",
       "metaclaim_id                             object\n",
       "paid_date                                object\n",
       "has_corresponding_claim                    bool\n",
       "Length: 306, dtype: object"
      ]
     },
     "execution_count": 8,
     "metadata": {},
     "output_type": "execute_result"
    }
   ],
   "source": [
    "df.dtypes"
   ]
  },
  {
   "cell_type": "code",
   "execution_count": 9,
   "metadata": {},
   "outputs": [
    {
     "data": {
      "text/html": [
       "<div>\n",
       "<style>\n",
       "    .dataframe thead tr:only-child th {\n",
       "        text-align: right;\n",
       "    }\n",
       "\n",
       "    .dataframe thead th {\n",
       "        text-align: left;\n",
       "    }\n",
       "\n",
       "    .dataframe tbody tr th {\n",
       "        vertical-align: top;\n",
       "    }\n",
       "</style>\n",
       "<table border=\"1\" class=\"dataframe\">\n",
       "  <thead>\n",
       "    <tr style=\"text-align: right;\">\n",
       "      <th></th>\n",
       "      <th>accepted_date</th>\n",
       "      <th>accident_type</th>\n",
       "      <th>adjustment_reason</th>\n",
       "      <th>adjustment_reason_description</th>\n",
       "      <th>adjustment_reason_id</th>\n",
       "      <th>...</th>\n",
       "      <th>workflow_queue_id</th>\n",
       "      <th>external_reportable</th>\n",
       "      <th>metaclaim_id</th>\n",
       "      <th>paid_date</th>\n",
       "      <th>has_corresponding_claim</th>\n",
       "    </tr>\n",
       "  </thead>\n",
       "  <tbody>\n",
       "    <tr>\n",
       "      <th>0</th>\n",
       "      <td>NaT</td>\n",
       "      <td>NaN</td>\n",
       "      <td>NaN</td>\n",
       "      <td>NaN</td>\n",
       "      <td>NaN</td>\n",
       "      <td>...</td>\n",
       "      <td>NaN</td>\n",
       "      <td>True</td>\n",
       "      <td>M_99036_99115</td>\n",
       "      <td>NaN</td>\n",
       "      <td>False</td>\n",
       "    </tr>\n",
       "    <tr>\n",
       "      <th>1</th>\n",
       "      <td>NaT</td>\n",
       "      <td>NaN</td>\n",
       "      <td>NaN</td>\n",
       "      <td>NaN</td>\n",
       "      <td>NaN</td>\n",
       "      <td>...</td>\n",
       "      <td>NaN</td>\n",
       "      <td>True</td>\n",
       "      <td>M_539318_623141</td>\n",
       "      <td>2016-09-30</td>\n",
       "      <td>True</td>\n",
       "    </tr>\n",
       "    <tr>\n",
       "      <th>2</th>\n",
       "      <td>NaT</td>\n",
       "      <td>NaN</td>\n",
       "      <td>NaN</td>\n",
       "      <td>NaN</td>\n",
       "      <td>NaN</td>\n",
       "      <td>...</td>\n",
       "      <td>NaN</td>\n",
       "      <td>True</td>\n",
       "      <td>M_534922_617617</td>\n",
       "      <td>2016-09-23</td>\n",
       "      <td>True</td>\n",
       "    </tr>\n",
       "    <tr>\n",
       "      <th>3</th>\n",
       "      <td>NaT</td>\n",
       "      <td>NaN</td>\n",
       "      <td>NaN</td>\n",
       "      <td>NaN</td>\n",
       "      <td>NaN</td>\n",
       "      <td>...</td>\n",
       "      <td>NaN</td>\n",
       "      <td>True</td>\n",
       "      <td>M_518445_592291</td>\n",
       "      <td>NaN</td>\n",
       "      <td>False</td>\n",
       "    </tr>\n",
       "    <tr>\n",
       "      <th>4</th>\n",
       "      <td>NaT</td>\n",
       "      <td>NaN</td>\n",
       "      <td>NaN</td>\n",
       "      <td>7</td>\n",
       "      <td>7</td>\n",
       "      <td>...</td>\n",
       "      <td>NaN</td>\n",
       "      <td>True</td>\n",
       "      <td>M_516064_589830</td>\n",
       "      <td>NaN</td>\n",
       "      <td>False</td>\n",
       "    </tr>\n",
       "  </tbody>\n",
       "</table>\n",
       "<p>5 rows × 306 columns</p>\n",
       "</div>"
      ],
      "text/plain": [
       "  accepted_date accident_type adjustment_reason adjustment_reason_description  \\\n",
       "0           NaT           NaN               NaN                           NaN   \n",
       "1           NaT           NaN               NaN                           NaN   \n",
       "2           NaT           NaN               NaN                           NaN   \n",
       "3           NaT           NaN               NaN                           NaN   \n",
       "4           NaT           NaN               NaN                             7   \n",
       "\n",
       "  adjustment_reason_id           ...             workflow_queue_id  \\\n",
       "0                  NaN           ...                           NaN   \n",
       "1                  NaN           ...                           NaN   \n",
       "2                  NaN           ...                           NaN   \n",
       "3                  NaN           ...                           NaN   \n",
       "4                    7           ...                           NaN   \n",
       "\n",
       "  external_reportable     metaclaim_id   paid_date  has_corresponding_claim  \n",
       "0                True    M_99036_99115         NaN                    False  \n",
       "1                True  M_539318_623141  2016-09-30                     True  \n",
       "2                True  M_534922_617617  2016-09-23                     True  \n",
       "3                True  M_518445_592291         NaN                    False  \n",
       "4                True  M_516064_589830         NaN                    False  \n",
       "\n",
       "[5 rows x 306 columns]"
      ]
     },
     "execution_count": 9,
     "metadata": {},
     "output_type": "execute_result"
    }
   ],
   "source": [
    "df.head()"
   ]
  },
  {
   "cell_type": "markdown",
   "metadata": {},
   "source": [
    "For this analysis - I am interested in what factors drive cost. Cost is defined in the column \"Benefit Amount\". This data set has 305 possible explanatory variables over more than 2 million rows. Benefit Amount will be the response variable for this analysis."
   ]
  },
  {
   "cell_type": "markdown",
   "metadata": {},
   "source": [
    "### Analysis"
   ]
  },
  {
   "cell_type": "code",
   "execution_count": 32,
   "metadata": {},
   "outputs": [
    {
     "data": {
      "text/html": [
       "<div>\n",
       "<style>\n",
       "    .dataframe thead tr:only-child th {\n",
       "        text-align: right;\n",
       "    }\n",
       "\n",
       "    .dataframe thead th {\n",
       "        text-align: left;\n",
       "    }\n",
       "\n",
       "    .dataframe tbody tr th {\n",
       "        vertical-align: top;\n",
       "    }\n",
       "</style>\n",
       "<table border=\"1\" class=\"dataframe\">\n",
       "  <thead>\n",
       "    <tr style=\"text-align: right;\">\n",
       "      <th></th>\n",
       "      <th>accepted_date</th>\n",
       "      <th>accident_type</th>\n",
       "      <th>adjustment_reason</th>\n",
       "      <th>adjustment_reason_description</th>\n",
       "      <th>adjustment_reason_id</th>\n",
       "      <th>...</th>\n",
       "      <th>workflow_queue_id</th>\n",
       "      <th>external_reportable</th>\n",
       "      <th>metaclaim_id</th>\n",
       "      <th>paid_date</th>\n",
       "      <th>has_corresponding_claim</th>\n",
       "    </tr>\n",
       "  </thead>\n",
       "  <tbody>\n",
       "    <tr>\n",
       "      <th>4</th>\n",
       "      <td>NaT</td>\n",
       "      <td>NaN</td>\n",
       "      <td>NaN</td>\n",
       "      <td>7</td>\n",
       "      <td>7</td>\n",
       "      <td>...</td>\n",
       "      <td>NaN</td>\n",
       "      <td>True</td>\n",
       "      <td>M_516064_589830</td>\n",
       "      <td>NaN</td>\n",
       "      <td>False</td>\n",
       "    </tr>\n",
       "    <tr>\n",
       "      <th>5</th>\n",
       "      <td>NaT</td>\n",
       "      <td>NaN</td>\n",
       "      <td>NaN</td>\n",
       "      <td>7</td>\n",
       "      <td>7</td>\n",
       "      <td>...</td>\n",
       "      <td>NaN</td>\n",
       "      <td>True</td>\n",
       "      <td>M_516064_589799</td>\n",
       "      <td>NaN</td>\n",
       "      <td>False</td>\n",
       "    </tr>\n",
       "    <tr>\n",
       "      <th>6</th>\n",
       "      <td>NaT</td>\n",
       "      <td>NaN</td>\n",
       "      <td>NaN</td>\n",
       "      <td>7</td>\n",
       "      <td>7</td>\n",
       "      <td>...</td>\n",
       "      <td>NaN</td>\n",
       "      <td>True</td>\n",
       "      <td>M_516064_589798</td>\n",
       "      <td>NaN</td>\n",
       "      <td>False</td>\n",
       "    </tr>\n",
       "    <tr>\n",
       "      <th>7</th>\n",
       "      <td>NaT</td>\n",
       "      <td>NaN</td>\n",
       "      <td>NaN</td>\n",
       "      <td>7</td>\n",
       "      <td>7</td>\n",
       "      <td>...</td>\n",
       "      <td>NaN</td>\n",
       "      <td>True</td>\n",
       "      <td>M_516064_589797</td>\n",
       "      <td>NaN</td>\n",
       "      <td>False</td>\n",
       "    </tr>\n",
       "    <tr>\n",
       "      <th>8</th>\n",
       "      <td>NaT</td>\n",
       "      <td>NaN</td>\n",
       "      <td>NaN</td>\n",
       "      <td>7</td>\n",
       "      <td>7</td>\n",
       "      <td>...</td>\n",
       "      <td>NaN</td>\n",
       "      <td>True</td>\n",
       "      <td>M_516064_589796</td>\n",
       "      <td>NaN</td>\n",
       "      <td>False</td>\n",
       "    </tr>\n",
       "    <tr>\n",
       "      <th>9</th>\n",
       "      <td>NaT</td>\n",
       "      <td>NaN</td>\n",
       "      <td>NaN</td>\n",
       "      <td>7</td>\n",
       "      <td>7</td>\n",
       "      <td>...</td>\n",
       "      <td>NaN</td>\n",
       "      <td>True</td>\n",
       "      <td>M_516064_589795</td>\n",
       "      <td>NaN</td>\n",
       "      <td>False</td>\n",
       "    </tr>\n",
       "    <tr>\n",
       "      <th>10</th>\n",
       "      <td>NaT</td>\n",
       "      <td>NaN</td>\n",
       "      <td>NaN</td>\n",
       "      <td>7</td>\n",
       "      <td>7</td>\n",
       "      <td>...</td>\n",
       "      <td>NaN</td>\n",
       "      <td>True</td>\n",
       "      <td>M_516064_589794</td>\n",
       "      <td>NaN</td>\n",
       "      <td>False</td>\n",
       "    </tr>\n",
       "    <tr>\n",
       "      <th>11</th>\n",
       "      <td>NaT</td>\n",
       "      <td>NaN</td>\n",
       "      <td>NaN</td>\n",
       "      <td>7</td>\n",
       "      <td>7</td>\n",
       "      <td>...</td>\n",
       "      <td>NaN</td>\n",
       "      <td>True</td>\n",
       "      <td>M_516064_589793</td>\n",
       "      <td>NaN</td>\n",
       "      <td>False</td>\n",
       "    </tr>\n",
       "    <tr>\n",
       "      <th>12</th>\n",
       "      <td>NaT</td>\n",
       "      <td>NaN</td>\n",
       "      <td>NaN</td>\n",
       "      <td>7</td>\n",
       "      <td>7</td>\n",
       "      <td>...</td>\n",
       "      <td>NaN</td>\n",
       "      <td>True</td>\n",
       "      <td>M_516064_589792</td>\n",
       "      <td>NaN</td>\n",
       "      <td>False</td>\n",
       "    </tr>\n",
       "    <tr>\n",
       "      <th>13</th>\n",
       "      <td>NaT</td>\n",
       "      <td>NaN</td>\n",
       "      <td>NaN</td>\n",
       "      <td>7</td>\n",
       "      <td>7</td>\n",
       "      <td>...</td>\n",
       "      <td>NaN</td>\n",
       "      <td>True</td>\n",
       "      <td>M_516064_589791</td>\n",
       "      <td>NaN</td>\n",
       "      <td>False</td>\n",
       "    </tr>\n",
       "    <tr>\n",
       "      <th>...</th>\n",
       "      <td>...</td>\n",
       "      <td>...</td>\n",
       "      <td>...</td>\n",
       "      <td>...</td>\n",
       "      <td>...</td>\n",
       "      <td>...</td>\n",
       "      <td>...</td>\n",
       "      <td>...</td>\n",
       "      <td>...</td>\n",
       "      <td>...</td>\n",
       "      <td>...</td>\n",
       "    </tr>\n",
       "    <tr>\n",
       "      <th>2521481</th>\n",
       "      <td>NaT</td>\n",
       "      <td>NaN</td>\n",
       "      <td>NaN</td>\n",
       "      <td>NaN</td>\n",
       "      <td>NaN</td>\n",
       "      <td>...</td>\n",
       "      <td>NaN</td>\n",
       "      <td>False</td>\n",
       "      <td>VV_423284_46459</td>\n",
       "      <td>2016-08-04</td>\n",
       "      <td>True</td>\n",
       "    </tr>\n",
       "    <tr>\n",
       "      <th>2521482</th>\n",
       "      <td>NaT</td>\n",
       "      <td>NaN</td>\n",
       "      <td>NaN</td>\n",
       "      <td>NaN</td>\n",
       "      <td>NaN</td>\n",
       "      <td>...</td>\n",
       "      <td>NaN</td>\n",
       "      <td>False</td>\n",
       "      <td>VV_423284_46470</td>\n",
       "      <td>2016-08-04</td>\n",
       "      <td>True</td>\n",
       "    </tr>\n",
       "    <tr>\n",
       "      <th>2521487</th>\n",
       "      <td>NaT</td>\n",
       "      <td>NaN</td>\n",
       "      <td>NaN</td>\n",
       "      <td>NaN</td>\n",
       "      <td>NaN</td>\n",
       "      <td>...</td>\n",
       "      <td>NaN</td>\n",
       "      <td>False</td>\n",
       "      <td>VV_498880_47250</td>\n",
       "      <td>2016-08-09</td>\n",
       "      <td>True</td>\n",
       "    </tr>\n",
       "    <tr>\n",
       "      <th>2521488</th>\n",
       "      <td>NaT</td>\n",
       "      <td>NaN</td>\n",
       "      <td>NaN</td>\n",
       "      <td>NaN</td>\n",
       "      <td>NaN</td>\n",
       "      <td>...</td>\n",
       "      <td>NaN</td>\n",
       "      <td>False</td>\n",
       "      <td>VV_498880_47251</td>\n",
       "      <td>2016-08-09</td>\n",
       "      <td>True</td>\n",
       "    </tr>\n",
       "    <tr>\n",
       "      <th>2521489</th>\n",
       "      <td>NaT</td>\n",
       "      <td>NaN</td>\n",
       "      <td>NaN</td>\n",
       "      <td>NaN</td>\n",
       "      <td>NaN</td>\n",
       "      <td>...</td>\n",
       "      <td>NaN</td>\n",
       "      <td>False</td>\n",
       "      <td>VV_498880_47252</td>\n",
       "      <td>2016-08-09</td>\n",
       "      <td>True</td>\n",
       "    </tr>\n",
       "    <tr>\n",
       "      <th>2521490</th>\n",
       "      <td>NaT</td>\n",
       "      <td>NaN</td>\n",
       "      <td>NaN</td>\n",
       "      <td>NaN</td>\n",
       "      <td>NaN</td>\n",
       "      <td>...</td>\n",
       "      <td>NaN</td>\n",
       "      <td>False</td>\n",
       "      <td>VV_498880_47253</td>\n",
       "      <td>2016-08-09</td>\n",
       "      <td>True</td>\n",
       "    </tr>\n",
       "    <tr>\n",
       "      <th>2521491</th>\n",
       "      <td>NaT</td>\n",
       "      <td>NaN</td>\n",
       "      <td>NaN</td>\n",
       "      <td>NaN</td>\n",
       "      <td>NaN</td>\n",
       "      <td>...</td>\n",
       "      <td>NaN</td>\n",
       "      <td>False</td>\n",
       "      <td>VV_498880_47254</td>\n",
       "      <td>2016-08-09</td>\n",
       "      <td>True</td>\n",
       "    </tr>\n",
       "    <tr>\n",
       "      <th>2521492</th>\n",
       "      <td>NaT</td>\n",
       "      <td>NaN</td>\n",
       "      <td>NaN</td>\n",
       "      <td>NaN</td>\n",
       "      <td>NaN</td>\n",
       "      <td>...</td>\n",
       "      <td>NaN</td>\n",
       "      <td>False</td>\n",
       "      <td>VV_498880_47255</td>\n",
       "      <td>2016-08-09</td>\n",
       "      <td>True</td>\n",
       "    </tr>\n",
       "    <tr>\n",
       "      <th>2521493</th>\n",
       "      <td>NaT</td>\n",
       "      <td>NaN</td>\n",
       "      <td>NaN</td>\n",
       "      <td>NaN</td>\n",
       "      <td>NaN</td>\n",
       "      <td>...</td>\n",
       "      <td>NaN</td>\n",
       "      <td>False</td>\n",
       "      <td>VV_498880_47256</td>\n",
       "      <td>2016-08-09</td>\n",
       "      <td>True</td>\n",
       "    </tr>\n",
       "    <tr>\n",
       "      <th>2521494</th>\n",
       "      <td>NaT</td>\n",
       "      <td>NaN</td>\n",
       "      <td>NaN</td>\n",
       "      <td>NaN</td>\n",
       "      <td>NaN</td>\n",
       "      <td>...</td>\n",
       "      <td>NaN</td>\n",
       "      <td>False</td>\n",
       "      <td>VV_498880_47257</td>\n",
       "      <td>2016-08-09</td>\n",
       "      <td>True</td>\n",
       "    </tr>\n",
       "  </tbody>\n",
       "</table>\n",
       "<p>88910 rows × 306 columns</p>\n",
       "</div>"
      ],
      "text/plain": [
       "        accepted_date accident_type adjustment_reason  \\\n",
       "4                 NaT           NaN               NaN   \n",
       "5                 NaT           NaN               NaN   \n",
       "6                 NaT           NaN               NaN   \n",
       "7                 NaT           NaN               NaN   \n",
       "8                 NaT           NaN               NaN   \n",
       "9                 NaT           NaN               NaN   \n",
       "10                NaT           NaN               NaN   \n",
       "11                NaT           NaN               NaN   \n",
       "12                NaT           NaN               NaN   \n",
       "13                NaT           NaN               NaN   \n",
       "...               ...           ...               ...   \n",
       "2521481           NaT           NaN               NaN   \n",
       "2521482           NaT           NaN               NaN   \n",
       "2521487           NaT           NaN               NaN   \n",
       "2521488           NaT           NaN               NaN   \n",
       "2521489           NaT           NaN               NaN   \n",
       "2521490           NaT           NaN               NaN   \n",
       "2521491           NaT           NaN               NaN   \n",
       "2521492           NaT           NaN               NaN   \n",
       "2521493           NaT           NaN               NaN   \n",
       "2521494           NaT           NaN               NaN   \n",
       "\n",
       "        adjustment_reason_description adjustment_reason_id  \\\n",
       "4                                   7                    7   \n",
       "5                                   7                    7   \n",
       "6                                   7                    7   \n",
       "7                                   7                    7   \n",
       "8                                   7                    7   \n",
       "9                                   7                    7   \n",
       "10                                  7                    7   \n",
       "11                                  7                    7   \n",
       "12                                  7                    7   \n",
       "13                                  7                    7   \n",
       "...                               ...                  ...   \n",
       "2521481                           NaN                  NaN   \n",
       "2521482                           NaN                  NaN   \n",
       "2521487                           NaN                  NaN   \n",
       "2521488                           NaN                  NaN   \n",
       "2521489                           NaN                  NaN   \n",
       "2521490                           NaN                  NaN   \n",
       "2521491                           NaN                  NaN   \n",
       "2521492                           NaN                  NaN   \n",
       "2521493                           NaN                  NaN   \n",
       "2521494                           NaN                  NaN   \n",
       "\n",
       "                  ...             workflow_queue_id external_reportable  \\\n",
       "4                 ...                           NaN                True   \n",
       "5                 ...                           NaN                True   \n",
       "6                 ...                           NaN                True   \n",
       "7                 ...                           NaN                True   \n",
       "8                 ...                           NaN                True   \n",
       "9                 ...                           NaN                True   \n",
       "10                ...                           NaN                True   \n",
       "11                ...                           NaN                True   \n",
       "12                ...                           NaN                True   \n",
       "13                ...                           NaN                True   \n",
       "...               ...                           ...                 ...   \n",
       "2521481           ...                           NaN               False   \n",
       "2521482           ...                           NaN               False   \n",
       "2521487           ...                           NaN               False   \n",
       "2521488           ...                           NaN               False   \n",
       "2521489           ...                           NaN               False   \n",
       "2521490           ...                           NaN               False   \n",
       "2521491           ...                           NaN               False   \n",
       "2521492           ...                           NaN               False   \n",
       "2521493           ...                           NaN               False   \n",
       "2521494           ...                           NaN               False   \n",
       "\n",
       "            metaclaim_id   paid_date  has_corresponding_claim  \n",
       "4        M_516064_589830         NaN                    False  \n",
       "5        M_516064_589799         NaN                    False  \n",
       "6        M_516064_589798         NaN                    False  \n",
       "7        M_516064_589797         NaN                    False  \n",
       "8        M_516064_589796         NaN                    False  \n",
       "9        M_516064_589795         NaN                    False  \n",
       "10       M_516064_589794         NaN                    False  \n",
       "11       M_516064_589793         NaN                    False  \n",
       "12       M_516064_589792         NaN                    False  \n",
       "13       M_516064_589791         NaN                    False  \n",
       "...                  ...         ...                      ...  \n",
       "2521481  VV_423284_46459  2016-08-04                     True  \n",
       "2521482  VV_423284_46470  2016-08-04                     True  \n",
       "2521487  VV_498880_47250  2016-08-09                     True  \n",
       "2521488  VV_498880_47251  2016-08-09                     True  \n",
       "2521489  VV_498880_47252  2016-08-09                     True  \n",
       "2521490  VV_498880_47253  2016-08-09                     True  \n",
       "2521491  VV_498880_47254  2016-08-09                     True  \n",
       "2521492  VV_498880_47255  2016-08-09                     True  \n",
       "2521493  VV_498880_47256  2016-08-09                     True  \n",
       "2521494  VV_498880_47257  2016-08-09                     True  \n",
       "\n",
       "[88910 rows x 306 columns]"
      ]
     },
     "execution_count": 32,
     "metadata": {},
     "output_type": "execute_result"
    }
   ],
   "source": [
    "df[df['serviceYearMonth'] == '201606']"
   ]
  },
  {
   "cell_type": "code",
   "execution_count": 33,
   "metadata": {},
   "outputs": [
    {
     "data": {
      "text/plain": [
       "(2522038, 306)"
      ]
     },
     "execution_count": 33,
     "metadata": {},
     "output_type": "execute_result"
    }
   ],
   "source": [
    "df.shape"
   ]
  },
  {
   "cell_type": "code",
   "execution_count": 34,
   "metadata": {
    "collapsed": true
   },
   "outputs": [],
   "source": [
    "df = df[df['serviceYearMonth'] == '201606']"
   ]
  },
  {
   "cell_type": "code",
   "execution_count": 35,
   "metadata": {},
   "outputs": [
    {
     "data": {
      "text/plain": [
       "(88910, 306)"
      ]
     },
     "execution_count": 35,
     "metadata": {},
     "output_type": "execute_result"
    }
   ],
   "source": [
    "df.shape"
   ]
  },
  {
   "cell_type": "code",
   "execution_count": 36,
   "metadata": {},
   "outputs": [
    {
     "data": {
      "text/plain": [
       "person_id\n",
       "1025.0        106.09\n",
       "1029.0       1110.23\n",
       "1164.0        454.00\n",
       "1165.0       1572.65\n",
       "1169.0        320.86\n",
       "1250.0          0.00\n",
       "1253.0        440.18\n",
       "1255.0        199.00\n",
       "1258.0          0.00\n",
       "1374.0          5.74\n",
       "              ...   \n",
       "247580.0    53293.11\n",
       "248067.0      354.25\n",
       "249034.0     1125.00\n",
       "249103.0      966.58\n",
       "249437.0      316.50\n",
       "251552.0        0.00\n",
       "264083.0        0.00\n",
       "299459.0        0.00\n",
       "333074.0        0.00\n",
       "337604.0        0.00\n",
       "Name: benefit_amount, Length: 12423, dtype: float64"
      ]
     },
     "execution_count": 36,
     "metadata": {},
     "output_type": "execute_result"
    }
   ],
   "source": [
    "df.groupby('person_id').benefit_amount.sum()"
   ]
  },
  {
   "cell_type": "code",
   "execution_count": 79,
   "metadata": {
    "collapsed": true
   },
   "outputs": [],
   "source": [
    "df['total_spend'] = df.groupby('person_id').benefit_amount.transform('sum')"
   ]
  },
  {
   "cell_type": "code",
   "execution_count": 80,
   "metadata": {},
   "outputs": [
    {
     "data": {
      "text/plain": [
       "4          9406.30\n",
       "5          9406.30\n",
       "6          9406.30\n",
       "7          9406.30\n",
       "8          9406.30\n",
       "9          9406.30\n",
       "10         9406.30\n",
       "11         9406.30\n",
       "12         9406.30\n",
       "13         9406.30\n",
       "            ...   \n",
       "2521481     233.27\n",
       "2521482     233.27\n",
       "2521487     183.75\n",
       "2521488     183.75\n",
       "2521489     183.75\n",
       "2521490     183.75\n",
       "2521491     183.75\n",
       "2521492     183.75\n",
       "2521493     183.75\n",
       "2521494     183.75\n",
       "Name: total_spend, Length: 88910, dtype: float64"
      ]
     },
     "execution_count": 80,
     "metadata": {},
     "output_type": "execute_result"
    }
   ],
   "source": [
    "df.total_spend"
   ]
  },
  {
   "cell_type": "code",
   "execution_count": 74,
   "metadata": {},
   "outputs": [
    {
     "data": {
      "text/html": [
       "<div>\n",
       "<style>\n",
       "    .dataframe thead tr:only-child th {\n",
       "        text-align: right;\n",
       "    }\n",
       "\n",
       "    .dataframe thead th {\n",
       "        text-align: left;\n",
       "    }\n",
       "\n",
       "    .dataframe tbody tr th {\n",
       "        vertical-align: top;\n",
       "    }\n",
       "</style>\n",
       "<table border=\"1\" class=\"dataframe\">\n",
       "  <thead>\n",
       "    <tr style=\"text-align: right;\">\n",
       "      <th></th>\n",
       "      <th>benefit_amount</th>\n",
       "    </tr>\n",
       "  </thead>\n",
       "  <tbody>\n",
       "    <tr>\n",
       "      <th>4</th>\n",
       "      <td>9406.30</td>\n",
       "    </tr>\n",
       "    <tr>\n",
       "      <th>5</th>\n",
       "      <td>9406.30</td>\n",
       "    </tr>\n",
       "    <tr>\n",
       "      <th>6</th>\n",
       "      <td>9406.30</td>\n",
       "    </tr>\n",
       "    <tr>\n",
       "      <th>7</th>\n",
       "      <td>9406.30</td>\n",
       "    </tr>\n",
       "    <tr>\n",
       "      <th>8</th>\n",
       "      <td>9406.30</td>\n",
       "    </tr>\n",
       "    <tr>\n",
       "      <th>9</th>\n",
       "      <td>9406.30</td>\n",
       "    </tr>\n",
       "    <tr>\n",
       "      <th>10</th>\n",
       "      <td>9406.30</td>\n",
       "    </tr>\n",
       "    <tr>\n",
       "      <th>11</th>\n",
       "      <td>9406.30</td>\n",
       "    </tr>\n",
       "    <tr>\n",
       "      <th>12</th>\n",
       "      <td>9406.30</td>\n",
       "    </tr>\n",
       "    <tr>\n",
       "      <th>13</th>\n",
       "      <td>9406.30</td>\n",
       "    </tr>\n",
       "    <tr>\n",
       "      <th>...</th>\n",
       "      <td>...</td>\n",
       "    </tr>\n",
       "    <tr>\n",
       "      <th>2521481</th>\n",
       "      <td>233.27</td>\n",
       "    </tr>\n",
       "    <tr>\n",
       "      <th>2521482</th>\n",
       "      <td>233.27</td>\n",
       "    </tr>\n",
       "    <tr>\n",
       "      <th>2521487</th>\n",
       "      <td>183.75</td>\n",
       "    </tr>\n",
       "    <tr>\n",
       "      <th>2521488</th>\n",
       "      <td>183.75</td>\n",
       "    </tr>\n",
       "    <tr>\n",
       "      <th>2521489</th>\n",
       "      <td>183.75</td>\n",
       "    </tr>\n",
       "    <tr>\n",
       "      <th>2521490</th>\n",
       "      <td>183.75</td>\n",
       "    </tr>\n",
       "    <tr>\n",
       "      <th>2521491</th>\n",
       "      <td>183.75</td>\n",
       "    </tr>\n",
       "    <tr>\n",
       "      <th>2521492</th>\n",
       "      <td>183.75</td>\n",
       "    </tr>\n",
       "    <tr>\n",
       "      <th>2521493</th>\n",
       "      <td>183.75</td>\n",
       "    </tr>\n",
       "    <tr>\n",
       "      <th>2521494</th>\n",
       "      <td>183.75</td>\n",
       "    </tr>\n",
       "  </tbody>\n",
       "</table>\n",
       "<p>88910 rows × 1 columns</p>\n",
       "</div>"
      ],
      "text/plain": [
       "         benefit_amount\n",
       "4               9406.30\n",
       "5               9406.30\n",
       "6               9406.30\n",
       "7               9406.30\n",
       "8               9406.30\n",
       "9               9406.30\n",
       "10              9406.30\n",
       "11              9406.30\n",
       "12              9406.30\n",
       "13              9406.30\n",
       "...                 ...\n",
       "2521481          233.27\n",
       "2521482          233.27\n",
       "2521487          183.75\n",
       "2521488          183.75\n",
       "2521489          183.75\n",
       "2521490          183.75\n",
       "2521491          183.75\n",
       "2521492          183.75\n",
       "2521493          183.75\n",
       "2521494          183.75\n",
       "\n",
       "[88910 rows x 1 columns]"
      ]
     },
     "execution_count": 74,
     "metadata": {},
     "output_type": "execute_result"
    }
   ],
   "source": [
    "spend_by_person"
   ]
  },
  {
   "cell_type": "markdown",
   "metadata": {},
   "source": [
    "### Bring in demographics information from Metapersons file"
   ]
  },
  {
   "cell_type": "code",
   "execution_count": 38,
   "metadata": {
    "collapsed": true
   },
   "outputs": [],
   "source": [
    "mp = pd.read_pickle('/Users/jacobwhite/development/data/metaTables_july/metaPersons.pickle')"
   ]
  },
  {
   "cell_type": "code",
   "execution_count": 39,
   "metadata": {},
   "outputs": [
    {
     "data": {
      "text/plain": [
       "(131618, 212)"
      ]
     },
     "execution_count": 39,
     "metadata": {},
     "output_type": "execute_result"
    }
   ],
   "source": [
    "mp.shape"
   ]
  },
  {
   "cell_type": "code",
   "execution_count": 40,
   "metadata": {},
   "outputs": [
    {
     "data": {
      "text/plain": [
       "<bound method NDFrame.describe of         sponsor_id sponsor_name  person_id date_of_birth gender     ...      \\\n",
       "0             1000     DataSafe       1020    1976-11-06      M     ...       \n",
       "1             1000     DataSafe       1021    1981-01-01      M     ...       \n",
       "2             1000     DataSafe       1021    1981-01-01      M     ...       \n",
       "3             1000     DataSafe       1022    2014-10-09      F     ...       \n",
       "4             1000     DataSafe       1022    2014-10-09      F     ...       \n",
       "5             1000     DataSafe       1023    1982-12-02      F     ...       \n",
       "6             1000     DataSafe       1023    1982-12-02      F     ...       \n",
       "7             1000     DataSafe       1023    1982-12-02      F     ...       \n",
       "8             1000     DataSafe       1024    1971-08-22      F     ...       \n",
       "9             1000     DataSafe       1024    1971-08-22      F     ...       \n",
       "...            ...          ...        ...           ...    ...     ...       \n",
       "131608        1092      Counsyl     362550    1982-06-10      M     ...       \n",
       "131609        1092      Counsyl     362551    2017-02-16      M     ...       \n",
       "131610        1092      Counsyl     362552    1985-09-20      F     ...       \n",
       "131611        1092      Counsyl     362626    1991-11-01      M     ...       \n",
       "131612        1092      Counsyl     362926    1975-10-20      M     ...       \n",
       "131613        1092      Counsyl     363339    2017-02-17      F     ...       \n",
       "131614        1092      Counsyl     363340    1982-02-13      M     ...       \n",
       "131615        1092      Counsyl     363543    1995-04-06      M     ...       \n",
       "131616        1092      Counsyl     363544    1989-04-24      M     ...       \n",
       "131617        1092      Counsyl     363545    1990-01-07      F     ...       \n",
       "\n",
       "       is_fsa is_dcfsa is_any_fsa is_cobra region_code  \n",
       "0           0        0          0        0        CA-N  \n",
       "1           0        0          0        0        CA-N  \n",
       "2           0        0          0        0        CA-N  \n",
       "3           0        0          0        0        CA-N  \n",
       "4           0        0          0        0        CA-N  \n",
       "5           0        0          0        0      Non-CA  \n",
       "6           0        0          0        0        CA-N  \n",
       "7           0        0          0        0        CA-N  \n",
       "8           0        0          0        0        CA-N  \n",
       "9           0        0          0        0        CA-N  \n",
       "...       ...      ...        ...      ...         ...  \n",
       "131608      0        0          0        0        CA-N  \n",
       "131609      0        0          0        0        CA-N  \n",
       "131610      0        0          0        0        CA-N  \n",
       "131611      0        0          0        0        CA-S  \n",
       "131612      0        0          0        0      Non-CA  \n",
       "131613      0        0          0        0        CA-N  \n",
       "131614      0        0          0        0        CA-N  \n",
       "131615      0        0          0        0      Non-CA  \n",
       "131616      0        0          0        0        CA-N  \n",
       "131617      0        0          0        0        CA-N  \n",
       "\n",
       "[131618 rows x 212 columns]>"
      ]
     },
     "execution_count": 40,
     "metadata": {},
     "output_type": "execute_result"
    }
   ],
   "source": [
    "mp.describe"
   ]
  },
  {
   "cell_type": "code",
   "execution_count": 41,
   "metadata": {},
   "outputs": [
    {
     "data": {
      "text/plain": [
       "sponsor_id                          0\n",
       "sponsor_name                        0\n",
       "person_id                           0\n",
       "date_of_birth                       1\n",
       "gender                              0\n",
       "does_ssn_exist                      0\n",
       "sponsorship_id                      0\n",
       "hire_date                       31311\n",
       "termination_date               118823\n",
       "subsidiary                      60642\n",
       "                                ...  \n",
       "dental_is_ch                        0\n",
       "vision_is_ch                        0\n",
       "has_non_medical_ch_coverage         0\n",
       "is_hra                              0\n",
       "is_hsa                              0\n",
       "is_fsa                              0\n",
       "is_dcfsa                            0\n",
       "is_any_fsa                          0\n",
       "is_cobra                            0\n",
       "region_code                         0\n",
       "Length: 212, dtype: int64"
      ]
     },
     "execution_count": 41,
     "metadata": {},
     "output_type": "execute_result"
    }
   ],
   "source": [
    "mp.isnull().sum()"
   ]
  },
  {
   "cell_type": "code",
   "execution_count": 42,
   "metadata": {
    "collapsed": true
   },
   "outputs": [],
   "source": [
    "test = mp[mp.plan_year == 2016]"
   ]
  },
  {
   "cell_type": "code",
   "execution_count": 43,
   "metadata": {},
   "outputs": [
    {
     "data": {
      "text/plain": [
       "(42422, 212)"
      ]
     },
     "execution_count": 43,
     "metadata": {},
     "output_type": "execute_result"
    }
   ],
   "source": [
    "test.shape"
   ]
  },
  {
   "cell_type": "code",
   "execution_count": 44,
   "metadata": {
    "collapsed": true
   },
   "outputs": [],
   "source": [
    "mp = mp[mp.plan_year == 2016]"
   ]
  },
  {
   "cell_type": "code",
   "execution_count": 46,
   "metadata": {},
   "outputs": [
    {
     "data": {
      "text/plain": [
       "0          1020\n",
       "1          1021\n",
       "3          1022\n",
       "6          1023\n",
       "8          1024\n",
       "10         1025\n",
       "12         1026\n",
       "14         1027\n",
       "16         1028\n",
       "18         1029\n",
       "          ...  \n",
       "93780    347371\n",
       "93782    347387\n",
       "93784    347388\n",
       "93786    347389\n",
       "93788    347573\n",
       "93790    347574\n",
       "93792    347575\n",
       "93794    347576\n",
       "93796    347597\n",
       "93798    348911\n",
       "Name: person_id, Length: 42422, dtype: int64"
      ]
     },
     "execution_count": 46,
     "metadata": {},
     "output_type": "execute_result"
    }
   ],
   "source": [
    "mp.person_id"
   ]
  },
  {
   "cell_type": "markdown",
   "metadata": {},
   "source": [
    "### Join demographics data onto financial data"
   ]
  },
  {
   "cell_type": "code",
   "execution_count": 81,
   "metadata": {
    "collapsed": true
   },
   "outputs": [],
   "source": [
    "person_finance = df[['person_id', 'total_spend']]"
   ]
  },
  {
   "cell_type": "code",
   "execution_count": 82,
   "metadata": {},
   "outputs": [
    {
     "data": {
      "text/html": [
       "<div>\n",
       "<style>\n",
       "    .dataframe thead tr:only-child th {\n",
       "        text-align: right;\n",
       "    }\n",
       "\n",
       "    .dataframe thead th {\n",
       "        text-align: left;\n",
       "    }\n",
       "\n",
       "    .dataframe tbody tr th {\n",
       "        vertical-align: top;\n",
       "    }\n",
       "</style>\n",
       "<table border=\"1\" class=\"dataframe\">\n",
       "  <thead>\n",
       "    <tr style=\"text-align: right;\">\n",
       "      <th></th>\n",
       "      <th>person_id</th>\n",
       "      <th>total_spend</th>\n",
       "    </tr>\n",
       "  </thead>\n",
       "  <tbody>\n",
       "    <tr>\n",
       "      <th>4</th>\n",
       "      <td>241078.0</td>\n",
       "      <td>9406.30</td>\n",
       "    </tr>\n",
       "    <tr>\n",
       "      <th>5</th>\n",
       "      <td>241078.0</td>\n",
       "      <td>9406.30</td>\n",
       "    </tr>\n",
       "    <tr>\n",
       "      <th>6</th>\n",
       "      <td>241078.0</td>\n",
       "      <td>9406.30</td>\n",
       "    </tr>\n",
       "    <tr>\n",
       "      <th>7</th>\n",
       "      <td>241078.0</td>\n",
       "      <td>9406.30</td>\n",
       "    </tr>\n",
       "    <tr>\n",
       "      <th>8</th>\n",
       "      <td>241078.0</td>\n",
       "      <td>9406.30</td>\n",
       "    </tr>\n",
       "    <tr>\n",
       "      <th>9</th>\n",
       "      <td>241078.0</td>\n",
       "      <td>9406.30</td>\n",
       "    </tr>\n",
       "    <tr>\n",
       "      <th>10</th>\n",
       "      <td>241078.0</td>\n",
       "      <td>9406.30</td>\n",
       "    </tr>\n",
       "    <tr>\n",
       "      <th>11</th>\n",
       "      <td>241078.0</td>\n",
       "      <td>9406.30</td>\n",
       "    </tr>\n",
       "    <tr>\n",
       "      <th>12</th>\n",
       "      <td>241078.0</td>\n",
       "      <td>9406.30</td>\n",
       "    </tr>\n",
       "    <tr>\n",
       "      <th>13</th>\n",
       "      <td>241078.0</td>\n",
       "      <td>9406.30</td>\n",
       "    </tr>\n",
       "    <tr>\n",
       "      <th>...</th>\n",
       "      <td>...</td>\n",
       "      <td>...</td>\n",
       "    </tr>\n",
       "    <tr>\n",
       "      <th>2521481</th>\n",
       "      <td>185507.0</td>\n",
       "      <td>233.27</td>\n",
       "    </tr>\n",
       "    <tr>\n",
       "      <th>2521482</th>\n",
       "      <td>185507.0</td>\n",
       "      <td>233.27</td>\n",
       "    </tr>\n",
       "    <tr>\n",
       "      <th>2521487</th>\n",
       "      <td>223566.0</td>\n",
       "      <td>183.75</td>\n",
       "    </tr>\n",
       "    <tr>\n",
       "      <th>2521488</th>\n",
       "      <td>223566.0</td>\n",
       "      <td>183.75</td>\n",
       "    </tr>\n",
       "    <tr>\n",
       "      <th>2521489</th>\n",
       "      <td>223566.0</td>\n",
       "      <td>183.75</td>\n",
       "    </tr>\n",
       "    <tr>\n",
       "      <th>2521490</th>\n",
       "      <td>223566.0</td>\n",
       "      <td>183.75</td>\n",
       "    </tr>\n",
       "    <tr>\n",
       "      <th>2521491</th>\n",
       "      <td>223566.0</td>\n",
       "      <td>183.75</td>\n",
       "    </tr>\n",
       "    <tr>\n",
       "      <th>2521492</th>\n",
       "      <td>223566.0</td>\n",
       "      <td>183.75</td>\n",
       "    </tr>\n",
       "    <tr>\n",
       "      <th>2521493</th>\n",
       "      <td>223566.0</td>\n",
       "      <td>183.75</td>\n",
       "    </tr>\n",
       "    <tr>\n",
       "      <th>2521494</th>\n",
       "      <td>223566.0</td>\n",
       "      <td>183.75</td>\n",
       "    </tr>\n",
       "  </tbody>\n",
       "</table>\n",
       "<p>88910 rows × 2 columns</p>\n",
       "</div>"
      ],
      "text/plain": [
       "         person_id  total_spend\n",
       "4         241078.0      9406.30\n",
       "5         241078.0      9406.30\n",
       "6         241078.0      9406.30\n",
       "7         241078.0      9406.30\n",
       "8         241078.0      9406.30\n",
       "9         241078.0      9406.30\n",
       "10        241078.0      9406.30\n",
       "11        241078.0      9406.30\n",
       "12        241078.0      9406.30\n",
       "13        241078.0      9406.30\n",
       "...            ...          ...\n",
       "2521481   185507.0       233.27\n",
       "2521482   185507.0       233.27\n",
       "2521487   223566.0       183.75\n",
       "2521488   223566.0       183.75\n",
       "2521489   223566.0       183.75\n",
       "2521490   223566.0       183.75\n",
       "2521491   223566.0       183.75\n",
       "2521492   223566.0       183.75\n",
       "2521493   223566.0       183.75\n",
       "2521494   223566.0       183.75\n",
       "\n",
       "[88910 rows x 2 columns]"
      ]
     },
     "execution_count": 82,
     "metadata": {},
     "output_type": "execute_result"
    }
   ],
   "source": [
    "person_finance"
   ]
  },
  {
   "cell_type": "code",
   "execution_count": 83,
   "metadata": {
    "collapsed": true
   },
   "outputs": [],
   "source": [
    "data = mp.merge(person_finance, how = \"inner\")"
   ]
  },
  {
   "cell_type": "code",
   "execution_count": 84,
   "metadata": {},
   "outputs": [
    {
     "data": {
      "text/plain": [
       "Index(['sponsor_id', 'sponsor_name', 'person_id', 'date_of_birth', 'gender',\n",
       "       'does_ssn_exist', 'sponsorship_id', 'hire_date', 'termination_date',\n",
       "       'subsidiary',\n",
       "       ...\n",
       "       'vision_is_ch', 'has_non_medical_ch_coverage', 'is_hra', 'is_hsa',\n",
       "       'is_fsa', 'is_dcfsa', 'is_any_fsa', 'is_cobra', 'region_code',\n",
       "       'total_spend'],\n",
       "      dtype='object', length=213)"
      ]
     },
     "execution_count": 84,
     "metadata": {},
     "output_type": "execute_result"
    }
   ],
   "source": [
    "data.columns"
   ]
  },
  {
   "cell_type": "code",
   "execution_count": 85,
   "metadata": {
    "collapsed": true
   },
   "outputs": [],
   "source": [
    "Y = data.total_spend"
   ]
  },
  {
   "cell_type": "code",
   "execution_count": 87,
   "metadata": {
    "collapsed": true
   },
   "outputs": [],
   "source": [
    "X = data[['sponsor_name', 'gender', 'msa_code']]"
   ]
  },
  {
   "cell_type": "markdown",
   "metadata": {},
   "source": [
    "## Multivariable Logistic Regression"
   ]
  },
  {
   "cell_type": "code",
   "execution_count": null,
   "metadata": {
    "collapsed": true
   },
   "outputs": [],
   "source": []
  }
 ],
 "metadata": {
  "kernelspec": {
   "display_name": "Python 3",
   "language": "python",
   "name": "python3"
  },
  "language_info": {
   "codemirror_mode": {
    "name": "ipython",
    "version": 3
   },
   "file_extension": ".py",
   "mimetype": "text/x-python",
   "name": "python",
   "nbconvert_exporter": "python",
   "pygments_lexer": "ipython3",
   "version": "3.6.2"
  }
 },
 "nbformat": 4,
 "nbformat_minor": 2
}
